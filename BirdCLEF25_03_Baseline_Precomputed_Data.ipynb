{
  "nbformat": 4,
  "nbformat_minor": 0,
  "metadata": {
    "colab": {
      "provenance": [],
      "machine_shape": "hm",
      "gpuType": "L4",
      "mount_file_id": "1EM51knAqkgdgKR_LEsvL0B8NRH_-0_to",
      "authorship_tag": "ABX9TyOer5s5Kbss+owSGWeAeE3F",
      "include_colab_link": true
    },
    "kernelspec": {
      "name": "python3",
      "display_name": "Python 3"
    },
    "language_info": {
      "name": "python"
    },
    "widgets": {
      "application/vnd.jupyter.widget-state+json": {
        "81a4653c8b5d4ed2827d967dc8bdfb09": {
          "model_module": "@jupyter-widgets/controls",
          "model_name": "HBoxModel",
          "model_module_version": "1.5.0",
          "state": {
            "_dom_classes": [],
            "_model_module": "@jupyter-widgets/controls",
            "_model_module_version": "1.5.0",
            "_model_name": "HBoxModel",
            "_view_count": null,
            "_view_module": "@jupyter-widgets/controls",
            "_view_module_version": "1.5.0",
            "_view_name": "HBoxView",
            "box_style": "",
            "children": [
              "IPY_MODEL_72361c0383da4671910e5c3d03ae3baa",
              "IPY_MODEL_fb101b4cd9b442d7978d99bd802608fb",
              "IPY_MODEL_db9e9d4d6eff42f6b6297b6543eee6dc"
            ],
            "layout": "IPY_MODEL_a665a423af2b4fca8017d9ae84772a19"
          }
        },
        "72361c0383da4671910e5c3d03ae3baa": {
          "model_module": "@jupyter-widgets/controls",
          "model_name": "HTMLModel",
          "model_module_version": "1.5.0",
          "state": {
            "_dom_classes": [],
            "_model_module": "@jupyter-widgets/controls",
            "_model_module_version": "1.5.0",
            "_model_name": "HTMLModel",
            "_view_count": null,
            "_view_module": "@jupyter-widgets/controls",
            "_view_module_version": "1.5.0",
            "_view_name": "HTMLView",
            "description": "",
            "description_tooltip": null,
            "layout": "IPY_MODEL_0d641e4c32514f5cb28d018c964361e5",
            "placeholder": "​",
            "style": "IPY_MODEL_b144de15bc6d4ae8980e2dc01aab571c",
            "value": "Mapping precomputed files: 100%"
          }
        },
        "fb101b4cd9b442d7978d99bd802608fb": {
          "model_module": "@jupyter-widgets/controls",
          "model_name": "FloatProgressModel",
          "model_module_version": "1.5.0",
          "state": {
            "_dom_classes": [],
            "_model_module": "@jupyter-widgets/controls",
            "_model_module_version": "1.5.0",
            "_model_name": "FloatProgressModel",
            "_view_count": null,
            "_view_module": "@jupyter-widgets/controls",
            "_view_module_version": "1.5.0",
            "_view_name": "ProgressView",
            "bar_style": "success",
            "description": "",
            "description_tooltip": null,
            "layout": "IPY_MODEL_5bad186ed5804545a62a315982aa18d3",
            "max": 187904,
            "min": 0,
            "orientation": "horizontal",
            "style": "IPY_MODEL_352943d207844b10b805a97ae481116b",
            "value": 187904
          }
        },
        "db9e9d4d6eff42f6b6297b6543eee6dc": {
          "model_module": "@jupyter-widgets/controls",
          "model_name": "HTMLModel",
          "model_module_version": "1.5.0",
          "state": {
            "_dom_classes": [],
            "_model_module": "@jupyter-widgets/controls",
            "_model_module_version": "1.5.0",
            "_model_name": "HTMLModel",
            "_view_count": null,
            "_view_module": "@jupyter-widgets/controls",
            "_view_module_version": "1.5.0",
            "_view_name": "HTMLView",
            "description": "",
            "description_tooltip": null,
            "layout": "IPY_MODEL_e4bfd368544a4cf28ebf7fa16be35152",
            "placeholder": "​",
            "style": "IPY_MODEL_4bddd92a7d814444bfa40aa4ba264aad",
            "value": " 187904/187904 [00:00&lt;00:00, 283792.80it/s]"
          }
        },
        "a665a423af2b4fca8017d9ae84772a19": {
          "model_module": "@jupyter-widgets/base",
          "model_name": "LayoutModel",
          "model_module_version": "1.2.0",
          "state": {
            "_model_module": "@jupyter-widgets/base",
            "_model_module_version": "1.2.0",
            "_model_name": "LayoutModel",
            "_view_count": null,
            "_view_module": "@jupyter-widgets/base",
            "_view_module_version": "1.2.0",
            "_view_name": "LayoutView",
            "align_content": null,
            "align_items": null,
            "align_self": null,
            "border": null,
            "bottom": null,
            "display": null,
            "flex": null,
            "flex_flow": null,
            "grid_area": null,
            "grid_auto_columns": null,
            "grid_auto_flow": null,
            "grid_auto_rows": null,
            "grid_column": null,
            "grid_gap": null,
            "grid_row": null,
            "grid_template_areas": null,
            "grid_template_columns": null,
            "grid_template_rows": null,
            "height": null,
            "justify_content": null,
            "justify_items": null,
            "left": null,
            "margin": null,
            "max_height": null,
            "max_width": null,
            "min_height": null,
            "min_width": null,
            "object_fit": null,
            "object_position": null,
            "order": null,
            "overflow": null,
            "overflow_x": null,
            "overflow_y": null,
            "padding": null,
            "right": null,
            "top": null,
            "visibility": null,
            "width": null
          }
        },
        "0d641e4c32514f5cb28d018c964361e5": {
          "model_module": "@jupyter-widgets/base",
          "model_name": "LayoutModel",
          "model_module_version": "1.2.0",
          "state": {
            "_model_module": "@jupyter-widgets/base",
            "_model_module_version": "1.2.0",
            "_model_name": "LayoutModel",
            "_view_count": null,
            "_view_module": "@jupyter-widgets/base",
            "_view_module_version": "1.2.0",
            "_view_name": "LayoutView",
            "align_content": null,
            "align_items": null,
            "align_self": null,
            "border": null,
            "bottom": null,
            "display": null,
            "flex": null,
            "flex_flow": null,
            "grid_area": null,
            "grid_auto_columns": null,
            "grid_auto_flow": null,
            "grid_auto_rows": null,
            "grid_column": null,
            "grid_gap": null,
            "grid_row": null,
            "grid_template_areas": null,
            "grid_template_columns": null,
            "grid_template_rows": null,
            "height": null,
            "justify_content": null,
            "justify_items": null,
            "left": null,
            "margin": null,
            "max_height": null,
            "max_width": null,
            "min_height": null,
            "min_width": null,
            "object_fit": null,
            "object_position": null,
            "order": null,
            "overflow": null,
            "overflow_x": null,
            "overflow_y": null,
            "padding": null,
            "right": null,
            "top": null,
            "visibility": null,
            "width": null
          }
        },
        "b144de15bc6d4ae8980e2dc01aab571c": {
          "model_module": "@jupyter-widgets/controls",
          "model_name": "DescriptionStyleModel",
          "model_module_version": "1.5.0",
          "state": {
            "_model_module": "@jupyter-widgets/controls",
            "_model_module_version": "1.5.0",
            "_model_name": "DescriptionStyleModel",
            "_view_count": null,
            "_view_module": "@jupyter-widgets/base",
            "_view_module_version": "1.2.0",
            "_view_name": "StyleView",
            "description_width": ""
          }
        },
        "5bad186ed5804545a62a315982aa18d3": {
          "model_module": "@jupyter-widgets/base",
          "model_name": "LayoutModel",
          "model_module_version": "1.2.0",
          "state": {
            "_model_module": "@jupyter-widgets/base",
            "_model_module_version": "1.2.0",
            "_model_name": "LayoutModel",
            "_view_count": null,
            "_view_module": "@jupyter-widgets/base",
            "_view_module_version": "1.2.0",
            "_view_name": "LayoutView",
            "align_content": null,
            "align_items": null,
            "align_self": null,
            "border": null,
            "bottom": null,
            "display": null,
            "flex": null,
            "flex_flow": null,
            "grid_area": null,
            "grid_auto_columns": null,
            "grid_auto_flow": null,
            "grid_auto_rows": null,
            "grid_column": null,
            "grid_gap": null,
            "grid_row": null,
            "grid_template_areas": null,
            "grid_template_columns": null,
            "grid_template_rows": null,
            "height": null,
            "justify_content": null,
            "justify_items": null,
            "left": null,
            "margin": null,
            "max_height": null,
            "max_width": null,
            "min_height": null,
            "min_width": null,
            "object_fit": null,
            "object_position": null,
            "order": null,
            "overflow": null,
            "overflow_x": null,
            "overflow_y": null,
            "padding": null,
            "right": null,
            "top": null,
            "visibility": null,
            "width": null
          }
        },
        "352943d207844b10b805a97ae481116b": {
          "model_module": "@jupyter-widgets/controls",
          "model_name": "ProgressStyleModel",
          "model_module_version": "1.5.0",
          "state": {
            "_model_module": "@jupyter-widgets/controls",
            "_model_module_version": "1.5.0",
            "_model_name": "ProgressStyleModel",
            "_view_count": null,
            "_view_module": "@jupyter-widgets/base",
            "_view_module_version": "1.2.0",
            "_view_name": "StyleView",
            "bar_color": null,
            "description_width": ""
          }
        },
        "e4bfd368544a4cf28ebf7fa16be35152": {
          "model_module": "@jupyter-widgets/base",
          "model_name": "LayoutModel",
          "model_module_version": "1.2.0",
          "state": {
            "_model_module": "@jupyter-widgets/base",
            "_model_module_version": "1.2.0",
            "_model_name": "LayoutModel",
            "_view_count": null,
            "_view_module": "@jupyter-widgets/base",
            "_view_module_version": "1.2.0",
            "_view_name": "LayoutView",
            "align_content": null,
            "align_items": null,
            "align_self": null,
            "border": null,
            "bottom": null,
            "display": null,
            "flex": null,
            "flex_flow": null,
            "grid_area": null,
            "grid_auto_columns": null,
            "grid_auto_flow": null,
            "grid_auto_rows": null,
            "grid_column": null,
            "grid_gap": null,
            "grid_row": null,
            "grid_template_areas": null,
            "grid_template_columns": null,
            "grid_template_rows": null,
            "height": null,
            "justify_content": null,
            "justify_items": null,
            "left": null,
            "margin": null,
            "max_height": null,
            "max_width": null,
            "min_height": null,
            "min_width": null,
            "object_fit": null,
            "object_position": null,
            "order": null,
            "overflow": null,
            "overflow_x": null,
            "overflow_y": null,
            "padding": null,
            "right": null,
            "top": null,
            "visibility": null,
            "width": null
          }
        },
        "4bddd92a7d814444bfa40aa4ba264aad": {
          "model_module": "@jupyter-widgets/controls",
          "model_name": "DescriptionStyleModel",
          "model_module_version": "1.5.0",
          "state": {
            "_model_module": "@jupyter-widgets/controls",
            "_model_module_version": "1.5.0",
            "_model_name": "DescriptionStyleModel",
            "_view_count": null,
            "_view_module": "@jupyter-widgets/base",
            "_view_module_version": "1.2.0",
            "_view_name": "StyleView",
            "description_width": ""
          }
        }
      }
    },
    "accelerator": "GPU"
  },
  "cells": [
    {
      "cell_type": "markdown",
      "metadata": {
        "id": "view-in-github",
        "colab_type": "text"
      },
      "source": [
        "<a href=\"https://colab.research.google.com/github/bachaudhry/kaggle_birdCLEF_25/blob/main/BirdCLEF25_03_Baseline_Precomputed_Data.ipynb\" target=\"_parent\"><img src=\"https://colab.research.google.com/assets/colab-badge.svg\" alt=\"Open In Colab\"/></a>"
      ]
    },
    {
      "cell_type": "markdown",
      "source": [],
      "metadata": {
        "id": "MPhonWFFUZEg"
      }
    },
    {
      "cell_type": "code",
      "source": [
        "from google.colab import drive\n",
        "drive.mount('/content/drive')\n",
        "\n",
        "import os\n",
        "os.environ[\"KAGGLE_CONFIG_DIR\"] = \"/content/drive/MyDrive/Kaggle\""
      ],
      "metadata": {
        "colab": {
          "base_uri": "https://localhost:8080/"
        },
        "id": "6jOrk6FGUW24",
        "outputId": "f4ed76ae-3e51-4879-9097-ac214b43f8e9"
      },
      "execution_count": 1,
      "outputs": [
        {
          "output_type": "stream",
          "name": "stdout",
          "text": [
            "Drive already mounted at /content/drive; to attempt to forcibly remount, call drive.mount(\"/content/drive\", force_remount=True).\n"
          ]
        }
      ]
    },
    {
      "cell_type": "code",
      "source": [
        "!pip install -q kaggle"
      ],
      "metadata": {
        "id": "QKPHMfMtgmSK"
      },
      "execution_count": 2,
      "outputs": []
    },
    {
      "cell_type": "code",
      "source": [
        "import numpy as np\n",
        "import pandas as pd\n",
        "import matplotlib.pyplot as plt\n",
        "import seaborn as sns\n",
        "import sys, gc, random, math, time, copy , zipfile, tarfile, shutil, subprocess, json\n",
        "from pathlib import Path\n",
        "from tqdm.notebook import tqdm\n",
        "import IPython.display as ipd\n",
        "from IPython.display import display, clear_output\n",
        "import ipywidgets as widgets\n",
        "\n",
        "import librosa\n",
        "import librosa.display\n",
        "import soundfile as sf\n",
        "\n",
        "import timm\n",
        "import torch\n",
        "import torch.nn as nn\n",
        "import torch.nn.functional as F\n",
        "import torch.optim as optim\n",
        "import torch.multiprocessing as mp\n",
        "import torchaudio\n",
        "import torchaudio.transforms as T\n",
        "from torch.utils.data import Dataset, DataLoader\n",
        "import torch.amp as amp\n",
        "\n",
        "from sklearn.model_selection import train_test_split\n",
        "from sklearn.metrics import roc_auc_score, accuracy_score, confusion_matrix, average_precision_score\n",
        "from sklearn.preprocessing import LabelEncoder"
      ],
      "metadata": {
        "id": "F0dtrnjeUFrv"
      },
      "execution_count": 3,
      "outputs": []
    },
    {
      "cell_type": "code",
      "source": [
        "sys.path.append('/content/drive/MyDrive/Kaggle/Bird_CLEF25/utils')\n",
        "from utils import Config, BirdClefDataset, create_target_tensor, seed_everything, process_gzipped"
      ],
      "metadata": {
        "id": "4VY8jZA4fZWP"
      },
      "execution_count": 4,
      "outputs": []
    },
    {
      "cell_type": "code",
      "source": [
        "cfg = Config()\n",
        "# Path to original train.csv, audio and metadata\n",
        "cfg.BASE_DATA_PATH = Path(\"/content/drive/MyDrive/Kaggle/Bird_CLEF25/data/birdclef-2025\")\n",
        "# Path to npy files\n",
        "cfg.PRECOMPUTED_SPECS_PATH = Path(\"/content/drive/MyDrive/Kaggle/Bird_CLEF25/data/precomputed-specs-np-zipped\")\n",
        "# Path to local specs\n",
        "#cfg.LOCAL_SPECS_PATH = Path(\"/content/precomputed_spectrograms\")\n",
        "# Training meta data\n",
        "cfg.TRAIN_METADATA_PATH = Path(\"/content/drive/MyDrive/Kaggle/Bird_CLEF25/data/birdclef-2025/train.csv\")"
      ],
      "metadata": {
        "id": "LmOAPiLPfZTo"
      },
      "execution_count": 5,
      "outputs": []
    },
    {
      "cell_type": "code",
      "source": [
        "# --- Set Device & Seed ---\n",
        "device = torch.device(\"cuda\" if torch.cuda.is_available() else \"cpu\")\n",
        "print(f\"Using device: {device}\")\n",
        "seed_everything(cfg.SEED)"
      ],
      "metadata": {
        "colab": {
          "base_uri": "https://localhost:8080/"
        },
        "id": "QYdzB_OafZQ_",
        "outputId": "fb695dd8-fb50-464a-dbf7-33cdecb84a4b"
      },
      "execution_count": 6,
      "outputs": [
        {
          "output_type": "stream",
          "name": "stdout",
          "text": [
            "Using device: cuda\n",
            "Seeded everything with: 42\n"
          ]
        }
      ]
    },
    {
      "cell_type": "code",
      "source": [
        "if cfg.NUM_WORKERS > 0:\n",
        "    try:\n",
        "        current_context = mp.get_context(None)\n",
        "        if not isinstance(current_context, mp.SpawnContext):\n",
        "             mp.set_start_method('spawn', force=True)\n",
        "             print(\"Set multiprocessing start method to 'spawn'.\")\n",
        "        else:\n",
        "             print(\"Multiprocessing start method already set to 'spawn'.\")\n",
        "    except RuntimeError as e:\n",
        "        print(f\"Could not set start method (might be already set or first run): {e}\")"
      ],
      "metadata": {
        "colab": {
          "base_uri": "https://localhost:8080/"
        },
        "id": "ZRsuayJcfZOS",
        "outputId": "b1bfeba4-f15d-4fc4-fa8b-23b42dace31d"
      },
      "execution_count": 7,
      "outputs": [
        {
          "output_type": "stream",
          "name": "stdout",
          "text": [
            "Set multiprocessing start method to 'spawn'.\n"
          ]
        }
      ]
    },
    {
      "cell_type": "code",
      "source": [
        "# --- Load Metadata ---\n",
        "if not cfg.TRAIN_METADATA_PATH.exists():\n",
        "    print(f\"ERROR: Metadata file not found at {cfg.TRAIN_METADATA_PATH}\")\n",
        "    # Stop execution or handle\n",
        "else:\n",
        "    train_df = pd.read_csv(cfg.TRAIN_METADATA_PATH)\n",
        "    print(f\"Train metadata loaded. Shape: {train_df.shape}\")"
      ],
      "metadata": {
        "colab": {
          "base_uri": "https://localhost:8080/"
        },
        "id": "RjDZIs1ZfZL7",
        "outputId": "c2fcd267-9720-4fbd-d5f6-0690229cd8ed"
      },
      "execution_count": 8,
      "outputs": [
        {
          "output_type": "stream",
          "name": "stdout",
          "text": [
            "Train metadata loaded. Shape: (28564, 13)\n"
          ]
        }
      ]
    },
    {
      "cell_type": "code",
      "source": [
        "#import gdown\n",
        "## Testing improved download and unzip function\n",
        "#def process_gzippedV2(input_path, output_path=None):\n",
        "#  local_temp_dir = \"/content/temp_data\"\n",
        "  #local_extract_path = os.path.join(local_temp_dir, \"extracted\")\n",
        " # os.makedirs(local_extract_path, exist_ok=True)\n",
        "  #os.makedirs(local_temp_dir, exist_ok=True)\n",
        "\n",
        "  # Download using gdown - timeout issues\n",
        "  #print(\"Downloading compressed file from Google Drive...\")\n",
        "  #url = f'https://drive.google.com/uc?id={file_id.split(\"/\")[-2]}'\n",
        "  #compressed_path = gdown.download(url, output=local_temp_dir, quiet=False)\n",
        "  # Ensure compressed_path is a file, not the directory\n",
        "  #compressed_path = os.path.join(local_temp_dir, compressed_path)  # Corrected line\n",
        "\n",
        "    # Get filename and local paths\n",
        "  #filename = os.path.basename(input_path)\n",
        "  #local_compressed_path = os.path.join(local_temp_dir, filename)\n",
        "  #local_extract_path = os.path.join(local_temp_dir, 'extracted')\n",
        "  #os.makedirs(local_extract_path, exist_ok=True)\n",
        "\n",
        "  # Download file from Drive to Colab\n",
        "  #print(f\"Copying {filename} from Drive to Colab...\")\n",
        "  #drive_path = os.path.join('/content/drive/MyDrive/', input_path)\n",
        "  #shutil.copy2(drive_path, local_compressed_path) # Slower but more robust\n",
        "\n",
        "  # Extract with parallel decompression (if possible/available)\n",
        "  #print(f\"Extracting {os.path.basename(local_compressed_path)}...\")\n",
        "  #try:\n",
        "    # Using pigz for parallel decompression\n",
        "    #subprocess.run(['pigz', '--version'], check=True)\n",
        "    #subprocess.run(['tar', '-I', 'pigz', '-xf', local_compressed_path, '-C', local_extract_path],\n",
        "                   check=True)\n",
        "  #except:\n",
        "    # Fallback to tar\n",
        "    #subprocess.run(['tar', '-xzf', local_compressed_path, '-C', local_extract_path],\n",
        "                   check=True)\n",
        "\n",
        "  # Clean up compressed file\n",
        "  #os.remove(local_compressed_path)\n",
        "\n",
        "  # Optional upload to drive\n",
        "  #if output_path:\n",
        "       #print(\"⏫ Starting Drive upload...\")\n",
        "        #drive_output_path = os.path.join('/content/drive/MyDrive', output_path)\n",
        "\n",
        "        # Use parallel upload with rsync\n",
        "        #subprocess.run([\n",
        "            #'rsync', '-a', '--info=progress2',\n",
        "            #local_extract_path + '/',\n",
        "            #drive_output_path\n",
        "        #], check=True)\n",
        "\n",
        "  #print(\"✅ All operations completed!\")\n",
        "  #return local_extract_path\n"
      ],
      "metadata": {
        "id": "XBum5eud3TaK"
      },
      "execution_count": null,
      "outputs": []
    },
    {
      "cell_type": "code",
      "source": [
        "#file_id = 'https://drive.google.com/file/d/1Ji5acgpHlyyhd8vI8gyQlN1nkjh16MwN/view?usp=drive_link'\n",
        "#input_path= \"/content/drive/MyDrive/Kaggle/Bird_CLEF25/data/precomputed-specs-np-zipped\"\n",
        "#ocal_extract = process_gzippedV2(input_path)"
      ],
      "metadata": {
        "colab": {
          "base_uri": "https://localhost:8080/"
        },
        "id": "DoLJ2yFf3TUT",
        "outputId": "e7bdc5dd-f0b1-41dc-dc8d-3913313032f4"
      },
      "execution_count": null,
      "outputs": [
        {
          "output_type": "stream",
          "name": "stdout",
          "text": [
            "Copying precomputed-specs-np-zipped from Drive to Colab...\n",
            "Extracting precomputed-specs-np-zipped...\n",
            "✅ All operations completed!\n"
          ]
        }
      ]
    },
    {
      "cell_type": "code",
      "source": [
        "# Download zipped folder and extract to local\n",
        "input_path = \"/content/drive/MyDrive/Kaggle/Bird_CLEF25/data/precomputed-specs-np-zipped\"\n",
        "local_extract = process_gzipped(input_path)"
      ],
      "metadata": {
        "colab": {
          "base_uri": "https://localhost:8080/"
        },
        "id": "ynDHKvxkJMqN",
        "outputId": "d3699d98-40a1-4f96-bef2-95aceced4b25"
      },
      "execution_count": 10,
      "outputs": [
        {
          "output_type": "stream",
          "name": "stdout",
          "text": [
            "Copying precomputed-specs-np-zipped from Drive to Colab...\n",
            "Extracting precomputed-specs-np-zipped...\n"
          ]
        },
        {
          "output_type": "stream",
          "name": "stderr",
          "text": [
            "Extracting files: 100%|██████████| 187905/187905 [04:55<00:00, 635.29it/s]\n"
          ]
        },
        {
          "output_type": "stream",
          "name": "stdout",
          "text": [
            "Operation completed successfully!\n"
          ]
        }
      ]
    },
    {
      "cell_type": "code",
      "source": [
        "# Update precomputed specs path\n",
        "#cfg.PRECOMPUTED_SPECS_PATH = cfg.LOCAL_SPECS_PATH\n",
        "# Run check\n",
        "local_specs_path = Path(\"/content/temp_data/extracted/kaggle/working/precomputed_specs_np\")\n",
        "all_precomputed_files = list(local_specs_path.glob(\"*.npy\"))\n",
        "print(f\"Found {len(all_precomputed_files)} precomputed .npy files.\")"
      ],
      "metadata": {
        "colab": {
          "base_uri": "https://localhost:8080/"
        },
        "id": "kLlg8hWRfZJY",
        "outputId": "58f90b07-f94a-471f-f907-be82d6595853"
      },
      "execution_count": 11,
      "outputs": [
        {
          "output_type": "stream",
          "name": "stdout",
          "text": [
            "Found 187904 precomputed .npy files.\n"
          ]
        }
      ]
    },
    {
      "cell_type": "code",
      "source": [
        "cfg.PRECOMPUTED_SPECS_PATH = local_specs_path"
      ],
      "metadata": {
        "id": "CQFu-UaLk3Lm"
      },
      "execution_count": 12,
      "outputs": []
    },
    {
      "cell_type": "code",
      "source": [
        "# Create label mappings\n",
        "unique_labels = sorted(train_df['primary_label'].unique())\n",
        "cfg.NUM_CLASSES = len(unique_labels)\n",
        "cfg.LABEL_TO_INT = {label: i for i, label in enumerate(unique_labels)}\n",
        "cfg.INT_TO_LABEL = {i: label for label, i in cfg.LABEL_TO_INT.items()}\n",
        "train_df['primary_label_int'] = train_df['primary_label'].map(cfg.LABEL_TO_INT)\n",
        "print(f\"{cfg.NUM_CLASSES} unique classes found.\")"
      ],
      "metadata": {
        "colab": {
          "base_uri": "https://localhost:8080/"
        },
        "id": "YOOBGzhUfZEx",
        "outputId": "a9d9c876-4697-45a5-a51f-ef54dfade544"
      },
      "execution_count": 13,
      "outputs": [
        {
          "output_type": "stream",
          "name": "stdout",
          "text": [
            "206 unique classes found.\n"
          ]
        }
      ]
    },
    {
      "cell_type": "markdown",
      "source": [
        "\n",
        "\n",
        "---\n",
        "\n"
      ],
      "metadata": {
        "id": "kCeUnrD6uTBB"
      }
    },
    {
      "cell_type": "code",
      "source": [
        "#manifest_path = Path(\"/content/drive/MyDrive/Kaggle/Bird_CLEF25/data/\")"
      ],
      "metadata": {
        "id": "6siDsbA87fpa"
      },
      "execution_count": null,
      "outputs": []
    },
    {
      "cell_type": "markdown",
      "source": [
        "This next step involves the creation of a manifest file to make the process of ensuring that preprocessed spectrograms are mapped to their respective originals in the train DF metadata file.\n",
        "\n",
        "If done correctly this cell will only need to be run once so that a `manifest.csv` file is created and stored in Google Drive. Afterwards, this step can be commented out and will be replaced with a new cell to simply load the manifest file from source."
      ],
      "metadata": {
        "id": "K6nQOKw083w7"
      }
    },
    {
      "cell_type": "markdown",
      "source": [
        "\n",
        "\n",
        "---\n",
        "\n"
      ],
      "metadata": {
        "id": "G1dHnCfpuWDA"
      }
    },
    {
      "cell_type": "code",
      "source": [
        "# --- CREATE MANIFEST REVISED  ---\n",
        "\n",
        "# --- Load Metadata ---\n",
        "#if not cfg.TRAIN_METADATA_PATH.exists():\n",
        "#    print(f\"ERROR: Metadata file not found at {cfg.TRAIN_METADATA_PATH}\")\n",
        "#    raise FileNotFoundError(f\"Metadata missing: {cfg.TRAIN_METADATA_PATH}\")\n",
        "\n",
        "#train_df = pd.read_csv(cfg.TRAIN_METADATA_PATH)\n",
        "#print(f\"Train metadata loaded. Shape: {train_df.shape}\")\n",
        "\n",
        "# --- Create Label Mappings ---\n",
        "#unique_labels = sorted(train_df['primary_label'].unique())\n",
        "#cfg.NUM_CLASSES = len(unique_labels)\n",
        "#cfg.LABEL_TO_INT = {label: i for i, label in enumerate(unique_labels)}\n",
        "#cfg.INT_TO_LABEL = {i: label for label, i in cfg.LABEL_TO_INT.items()}\n",
        "#train_df['primary_label_int'] = train_df['primary_label'].map(cfg.LABEL_TO_INT)\n",
        "#print(f\"{cfg.NUM_CLASSES} unique classes found.\")\n",
        "\n",
        "# --- Scan Precomputed Files and Create clip_samples & Manifest ---\n",
        "#all_precomputed_files = list(cfg.PRECOMPUTED_SPECS_PATH.glob(\"*.npy\"))\n",
        "#print(f\"Found {len(all_precomputed_files)} precomputed .npy files.\")\n",
        "\n",
        "#clip_samples = []\n",
        "#manifest_data = []\n",
        "\n",
        "#if not all_precomputed_files:\n",
        "#    print(\"ERROR: No precomputed files found.\")\n",
        "#else:\n",
        "#    print(\"Generating clip_info_list and manifest from precomputed files and train_df...\")\n",
        "\n",
        "    # --- Create the lookup dictionary ---\n",
        "    # Key: The part of the .npy filename BEFORE \"_clipIDX\"\n",
        "    # Value: (primary_label_int, original_filename_from_train_df)\n",
        "#    filename_to_label_map = {}\n",
        "#    for _, row in train_df.iterrows():\n",
        "#        original_filename_from_train_df = row['filename']\n",
        "        # THIS IS THE KEY ASSUMPTION:\n",
        "        # The key should be the original filename as it appears in train_df,\n",
        "        # if your .npy files are like \"TRAIN_DF_FILENAME_clipIDX.npy\"\n",
        "        # If train_df filenames have '/', and .npy files have them replaced with '_', adjust here.\n",
        "        # For now, assume .npy naming directly uses train_df['filename'] (potentially with slashes replaced)\n",
        "\n",
        "        # Let's assume your .npy files look like: \"original_filename_from_train_df_WITH_SLASHES_REPLACED_clipIDX.npy\"\n",
        "        # AND that \".ogg\" is part of this stem in the .npy file.\n",
        "#        key_for_map = original_filename_from_train_df.replace('/', '_') # Example: \"subdir_file.ogg\"\n",
        "\n",
        "#        filename_to_label_map[key_for_map] = (row['primary_label_int'], original_filename_from_train_df)\n",
        "\n",
        "    # --- DEBUG: Print some keys from the map ---\n",
        " #   print(f\"Generated {len(filename_to_label_map)} keys for lookup map.\")\n",
        " #   print(\"Sample keys from filename_to_label_map (first 5):\")\n",
        " #   for i, key in enumerate(filename_to_label_map.keys()):\n",
        " #       if i < 5:\n",
        " #           print(f\"  '{key}' -> {filename_to_label_map[key]}\")\n",
        " #       else:\n",
        " #           break\n",
        "    # --- END DEBUG ---\n",
        "\n",
        " #   processed_count = 0\n",
        " #   for spec_path in tqdm(all_precomputed_files, desc=\"Mapping precomputed files\"):\n",
        " #       try:\n",
        " #           npy_filename_stem_full = spec_path.stem # e.g., \"21211_XC934741.ogg_clip0\"\n",
        " #           parts = npy_filename_stem_full.rsplit('_clip', 1) # Use rsplit to split on the *last* occurrence\n",
        "\n",
        " #           if len(parts) != 2:\n",
        " #               print(f\"Warning: Could not parse clip index from '{spec_path.name}' using '_clip'. Skipping. Full stem: '{npy_filename_stem_full}'\")\n",
        " #               continue\n",
        "\n",
        " #           parsed_name_stem_from_npy = parts[0] # This should be the key we look up, e.g., \"21211_XC934741.ogg\"\n",
        "                                                # or \"ebird_code_XC12345.ogg\"\n",
        "\n",
        "            # --- DEBUG: Print parsed stem from .npy ---\n",
        " #           if processed_count < 5: # Print for the first 5 .npy files\n",
        " #                print(f\"  Attempting to match .npy parsed stem: '{parsed_name_stem_from_npy}'\")\n",
        "            # --- END DEBUG ---\n",
        "\n",
        " #           clip_idx_str = parts[1]\n",
        " #           if not clip_idx_str.isdigit():\n",
        " #               print(f\"Warning: Clip index part '{clip_idx_str}' is not a digit in '{spec_path.name}'. Skipping.\")\n",
        " #               continue\n",
        " #           clip_idx = int(clip_idx_str)\n",
        "\n",
        "\n",
        "#            if parsed_name_stem_from_npy in filename_to_label_map:\n",
        "#                primary_label_int, original_full_filename = filename_to_label_map[parsed_name_stem_from_npy]\n",
        "\n",
        "#                clip_entry = {\n",
        "#                    'original_filename': original_full_filename,\n",
        "#                    'spec_npy_filename': spec_path.name,\n",
        "#                    'clip_index': clip_idx,\n",
        "#                    'primary_label_int': primary_label_int\n",
        "#                }\n",
        "#                clip_samples.append(clip_entry)\n",
        "#                manifest_data.append(clip_entry)\n",
        "#            else:\n",
        "#                if processed_count < 20: # Print warning only for the first few mismatches to avoid flooding\n",
        "#                    print(f\"Warning: No match in train_df lookup for parsed .npy stem '{parsed_name_stem_from_npy}' from file '{spec_path.name}'\")\n",
        "\n",
        "#            processed_count += 1\n",
        "\n",
        "#        except Exception as e:\n",
        "#            print(f\"Error parsing or mapping {spec_path.name}: {e}\")\n",
        "\n",
        "#    cfg.TOTAL_CLIPS = len(clip_samples)\n",
        "#    print(f\"Created {cfg.TOTAL_CLIPS} clip samples from precomputed files.\")\n",
        "\n",
        "#    if not clip_samples:\n",
        "#         print(\"CRITICAL ERROR: clip_samples list is empty. Check mapping logic and .npy filenames based on debug output.\")\n",
        "#    else:\n",
        "#        manifest_df = pd.DataFrame(manifest_data)\n",
        "#        manifest_save_path = \"/content/temp_data/manifest.csv\"\n",
        "#        try:\n",
        "#            manifest_df.to_csv(manifest_save_path, index=False)\n",
        "#            print(f\"Manifest file saved to: {manifest_save_path}\")\n",
        "#            print(manifest_df.head())\n",
        "#        except Exception as e:\n",
        "#            print(f\"Error saving manifest to {manifest_save_path}: {e}\")\n",
        "#            print(\"Attempting to save to /content/manifest.csv instead...\")\n",
        "#            manifest_save_path_content = Path(\"/content/manifest.csv\")\n",
        "#            manifest_df.to_csv(manifest_save_path_content, index=False)\n",
        "#            print(f\"Manifest file saved to: {manifest_save_path_content}\")\n",
        "#            print(manifest_df.head())\n",
        "\n"
      ],
      "metadata": {
        "colab": {
          "base_uri": "https://localhost:8080/",
          "height": 603,
          "referenced_widgets": [
            "81a4653c8b5d4ed2827d967dc8bdfb09",
            "72361c0383da4671910e5c3d03ae3baa",
            "fb101b4cd9b442d7978d99bd802608fb",
            "db9e9d4d6eff42f6b6297b6543eee6dc",
            "a665a423af2b4fca8017d9ae84772a19",
            "0d641e4c32514f5cb28d018c964361e5",
            "b144de15bc6d4ae8980e2dc01aab571c",
            "5bad186ed5804545a62a315982aa18d3",
            "352943d207844b10b805a97ae481116b",
            "e4bfd368544a4cf28ebf7fa16be35152",
            "4bddd92a7d814444bfa40aa4ba264aad"
          ]
        },
        "id": "bEbDN7Y8EZRr",
        "outputId": "3eb0ef26-1bfd-495e-92f4-af62f8e348c1"
      },
      "execution_count": null,
      "outputs": [
        {
          "output_type": "stream",
          "name": "stdout",
          "text": [
            "Train metadata loaded. Shape: (28564, 13)\n",
            "206 unique classes found.\n",
            "Found 187904 precomputed .npy files.\n",
            "Generating clip_info_list and manifest from precomputed files and train_df...\n",
            "Generated 28564 keys for lookup map.\n",
            "Sample keys from filename_to_label_map (first 5):\n",
            "  '1139490_CSA36385.ogg' -> (0, '1139490/CSA36385.ogg')\n",
            "  '1139490_CSA36389.ogg' -> (0, '1139490/CSA36389.ogg')\n",
            "  '1192948_CSA36358.ogg' -> (1, '1192948/CSA36358.ogg')\n",
            "  '1192948_CSA36366.ogg' -> (1, '1192948/CSA36366.ogg')\n",
            "  '1192948_CSA36373.ogg' -> (1, '1192948/CSA36373.ogg')\n"
          ]
        },
        {
          "output_type": "display_data",
          "data": {
            "text/plain": [
              "Mapping precomputed files:   0%|          | 0/187904 [00:00<?, ?it/s]"
            ],
            "application/vnd.jupyter.widget-view+json": {
              "version_major": 2,
              "version_minor": 0,
              "model_id": "81a4653c8b5d4ed2827d967dc8bdfb09"
            }
          },
          "metadata": {}
        },
        {
          "output_type": "stream",
          "name": "stdout",
          "text": [
            "  Attempting to match .npy parsed stem: 'strowl1_XC48736.ogg'\n",
            "  Attempting to match .npy parsed stem: 'roahaw_XC113755.ogg'\n",
            "  Attempting to match .npy parsed stem: 'bkcdon_XC250791.ogg'\n",
            "  Attempting to match .npy parsed stem: 'bkmtou1_XC821017.ogg'\n",
            "  Attempting to match .npy parsed stem: 'yebsee1_XC216248.ogg'\n",
            "Created 187904 clip samples from precomputed files.\n",
            "Manifest file saved to: /content/temp_data/manifest.csv\n",
            "      original_filename                spec_npy_filename  clip_index  \\\n",
            "0   strowl1/XC48736.ogg    strowl1_XC48736.ogg_clip1.npy           1   \n",
            "1   roahaw/XC113755.ogg    roahaw_XC113755.ogg_clip1.npy           1   \n",
            "2   bkcdon/XC250791.ogg    bkcdon_XC250791.ogg_clip2.npy           2   \n",
            "3  bkmtou1/XC821017.ogg  bkmtou1_XC821017.ogg_clip17.npy          17   \n",
            "4  yebsee1/XC216248.ogg  yebsee1_XC216248.ogg_clip11.npy          11   \n",
            "\n",
            "   primary_label_int  \n",
            "0                175  \n",
            "1                144  \n",
            "2                 70  \n",
            "3                 71  \n",
            "4                197  \n"
          ]
        }
      ]
    },
    {
      "cell_type": "code",
      "source": [
        "# Load manifest data\n",
        "manifest_load_path = Path(\"/content/drive/MyDrive/Kaggle/Bird_CLEF25/data/manifest.csv\")\n",
        "if manifest_load_path.exists():\n",
        "    manifest_df = pd.read_csv(manifest_load_path)\n",
        "    print(f\"Manifest loaded from {manifest_load_path}\")\n",
        "    print(manifest_df.head(15))\n",
        "\n",
        "    # Ensure correct data types\n",
        "    manifest_df['clip_index'] = manifest_df['clip_index'].astype(int)\n",
        "    manifest_df['primary_label_int'] = manifest_df['primary_label_int'].astype(int)\n",
        "\n",
        "    clip_samples = manifest_df.to_dict('records') # Convert DF rows to list of dicts\n",
        "    cfg.TOTAL_CLIPS = len(clip_samples)\n",
        "    print(f\"Loaded {cfg.TOTAL_CLIPS} clip samples from mainfest.\")\n",
        "    print(\"Sample loaded clip_info: \", clip_samples[0] if clip_samples else \"N/A\")\n",
        "else:\n",
        "  print(f\"Error: Manifest not found at {manifest_load_path}\")\n",
        "  raise FileNotFoundError(f\"Manifest missing: {manifest_load_path}\")"
      ],
      "metadata": {
        "id": "sovL4wAy_I-o",
        "colab": {
          "base_uri": "https://localhost:8080/"
        },
        "outputId": "409bd16d-353b-482c-e2d4-aea3e21d63ec"
      },
      "execution_count": 15,
      "outputs": [
        {
          "output_type": "stream",
          "name": "stdout",
          "text": [
            "Manifest loaded from /content/drive/MyDrive/Kaggle/Bird_CLEF25/data/manifest.csv\n",
            "          original_filename                  spec_npy_filename  clip_index  \\\n",
            "0       strowl1/XC48736.ogg      strowl1_XC48736.ogg_clip1.npy           1   \n",
            "1       roahaw/XC113755.ogg      roahaw_XC113755.ogg_clip1.npy           1   \n",
            "2       bkcdon/XC250791.ogg      bkcdon_XC250791.ogg_clip2.npy           2   \n",
            "3      bkmtou1/XC821017.ogg    bkmtou1_XC821017.ogg_clip17.npy          17   \n",
            "4      yebsee1/XC216248.ogg    yebsee1_XC216248.ogg_clip11.npy          11   \n",
            "5       roahaw/XC925789.ogg     roahaw_XC925789.ogg_clip16.npy          16   \n",
            "6   grbhaw1/iNat1156713.ogg  grbhaw1_iNat1156713.ogg_clip0.npy           0   \n",
            "7       grnkin/XC452703.ogg      grnkin_XC452703.ogg_clip1.npy           1   \n",
            "8      paltan1/XC375634.ogg    paltan1_XC375634.ogg_clip27.npy          27   \n",
            "9      cotfly1/XC817211.ogg     cotfly1_XC817211.ogg_clip2.npy           2   \n",
            "10     wbwwre1/XC456410.ogg     wbwwre1_XC456410.ogg_clip0.npy           0   \n",
            "11      whtdov/XC551074.ogg     whtdov_XC551074.ogg_clip10.npy          10   \n",
            "12   littin1/iNat153503.ogg   littin1_iNat153503.ogg_clip5.npy           5   \n",
            "13     linwoo1/XC344481.ogg     linwoo1_XC344481.ogg_clip9.npy           9   \n",
            "14     srwswa1/XC518146.ogg    srwswa1_XC518146.ogg_clip11.npy          11   \n",
            "\n",
            "    primary_label_int  \n",
            "0                 175  \n",
            "1                 144  \n",
            "2                  70  \n",
            "3                  71  \n",
            "4                 197  \n",
            "5                 144  \n",
            "6                 109  \n",
            "7                 116  \n",
            "8                 131  \n",
            "9                  99  \n",
            "10                185  \n",
            "11                190  \n",
            "12                124  \n",
            "13                123  \n",
            "14                170  \n",
            "Loaded 187904 clip samples from mainfest.\n",
            "Sample loaded clip_info:  {'original_filename': 'strowl1/XC48736.ogg', 'spec_npy_filename': 'strowl1_XC48736.ogg_clip1.npy', 'clip_index': 1, 'primary_label_int': 175}\n"
          ]
        }
      ]
    },
    {
      "cell_type": "markdown",
      "source": [
        "## Training / Validation Split"
      ],
      "metadata": {
        "id": "Huti6zxLD9pY"
      }
    },
    {
      "cell_type": "code",
      "source": [
        "if 'clip_samples' not in globals() or not clip_samples:\n",
        "  print(\"Error: clip_samples is not loaded, run the previous steps first!\")\n",
        "  raise ValueError(\"clip_samples not loaded. Can't proceed with data splitting.\")\n",
        "else:\n",
        "  clip_df_for_split = pd.DataFrame(clip_samples)\n",
        "\n",
        "  # Filter classes with only one sample - for stratification\n",
        "  label_counts = clip_df_for_split['primary_label_int'].value_counts()\n",
        "  single_sample_labels = label_counts[label_counts == 1].index.tolist()\n",
        "\n",
        "  if single_sample_labels:\n",
        "    print(f\"Found {len(single_sample_labels)} classes with only 1 precomputed sample clip.\")\n",
        "    # Classes being removed\n",
        "    clip_df_filtered = clip_df_for_split[~clip_df_for_split['primary_label_int'].isin(single_sample_labels)].copy()\n",
        "    removed_count = len(clip_df_for_split) - len(clip_df_filtered)\n",
        "    print(f\"Removed {removed_count} clips belonging to single sample classes\")\n",
        "    print(f\"Remaining clips for splitting: {len(clip_df_filtered)}\")\n",
        "  else:\n",
        "    clip_df_filtered = clip_df_for_split.copy()\n",
        "    print(\"No classes with only 1 precomputed sample clip found. No filtering applied.\")\n",
        "\n",
        "  if not clip_df_filtered.empty:\n",
        "    # Indeces of the filteredd dataframe for splitting\n",
        "    features = clip_df_filtered.index\n",
        "    labels = clip_df_filtered['primary_label_int']\n",
        "\n",
        "    try:\n",
        "      train_indeces, val_indeces = train_test_split(\n",
        "          features, # split on the df index\n",
        "          test_size=0.2,\n",
        "          random_state=cfg.SEED,\n",
        "          stratify=labels\n",
        "      )\n",
        "      # Train and validation lists of clip info dicts\n",
        "      train_clip_info = clip_df_filtered.loc[train_indeces].to_dict('records')\n",
        "      val_clip_info = clip_df_filtered.loc[val_indeces].to_dict('records')\n",
        "\n",
        "      print(f\"Training clips: {len(train_clip_info)}\")\n",
        "      print(f\"Validation clips: {len(val_clip_info)}\")\n",
        "\n",
        "      # Verify stratification - check distributions in train and val\n",
        "      train_labels_dist = pd.Series([d['primary_label_int'] for d in train_clip_info]).value_counts(normalize=True)\n",
        "      val_labels_dist = pd.Series([d['primary_label_int'] for d in val_clip_info]).value_counts(normalize=True)\n",
        "      print(\"Example class proportions\")\n"
      ],
      "metadata": {
        "id": "Do-1YF2F-F8L"
      },
      "execution_count": null,
      "outputs": []
    },
    {
      "cell_type": "code",
      "source": [],
      "metadata": {
        "id": "-d8n0Wbr-F5r"
      },
      "execution_count": null,
      "outputs": []
    },
    {
      "cell_type": "code",
      "source": [],
      "metadata": {
        "id": "JsdkTf4D-F3O"
      },
      "execution_count": null,
      "outputs": []
    },
    {
      "cell_type": "code",
      "source": [],
      "metadata": {
        "id": "fgF3gkxg-F0m"
      },
      "execution_count": null,
      "outputs": []
    },
    {
      "cell_type": "code",
      "source": [],
      "metadata": {
        "id": "5QtVNAOE-FyO"
      },
      "execution_count": null,
      "outputs": []
    },
    {
      "cell_type": "code",
      "source": [],
      "metadata": {
        "id": "H20KbmKV-FdZ"
      },
      "execution_count": null,
      "outputs": []
    },
    {
      "cell_type": "code",
      "source": [],
      "metadata": {
        "id": "UKt1DnKS-Fa1"
      },
      "execution_count": null,
      "outputs": []
    },
    {
      "cell_type": "code",
      "source": [],
      "metadata": {
        "id": "MbUK1Hg5-FYi"
      },
      "execution_count": null,
      "outputs": []
    },
    {
      "cell_type": "code",
      "source": [],
      "metadata": {
        "id": "6BWMK5Ri-FWM"
      },
      "execution_count": null,
      "outputs": []
    },
    {
      "cell_type": "code",
      "source": [],
      "metadata": {
        "id": "8BE5Vlal-FTs"
      },
      "execution_count": null,
      "outputs": []
    },
    {
      "cell_type": "code",
      "source": [],
      "metadata": {
        "id": "q9kPX1oi-FRN"
      },
      "execution_count": null,
      "outputs": []
    }
  ]
}